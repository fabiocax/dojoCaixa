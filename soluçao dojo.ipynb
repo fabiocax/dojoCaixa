{
 "cells": [
  {
   "cell_type": "markdown",
   "id": "thick-electron",
   "metadata": {},
   "source": [
    "## Solução mascada infinita"
   ]
  },
  {
   "cell_type": "code",
   "execution_count": 829,
   "id": "respiratory-california",
   "metadata": {},
   "outputs": [
    {
     "data": {
      "text/plain": [
       "[100,\n",
       " 100,\n",
       " 100,\n",
       " 100,\n",
       " 100,\n",
       " 100,\n",
       " 100,\n",
       " 100,\n",
       " 100,\n",
       " 100,\n",
       " 100,\n",
       " 100,\n",
       " 100,\n",
       " 100,\n",
       " 100,\n",
       " 50,\n",
       " 20,\n",
       " 20]"
      ]
     },
     "execution_count": 829,
     "metadata": {},
     "output_type": "execute_result"
    }
   ],
   "source": [
    "## Desenvolvido por Fabio Alberti\n",
    "\n",
    "NOTAS_MAQUINA=[100, 50 ,20 ,10] #Notas disponíveis\n",
    "\n",
    "def saque(contagem:int) -> list:\n",
    "    '''entrega de notas quando um cliente efetuar um saque em um caixa eletrônico'''\n",
    "    notas=[]\n",
    "    assert contagem%10 ==0,\"Não há notas disponíveis para esse valor\"\n",
    "    while contagem > 0:\n",
    "        for nota in NOTAS_MAQUINA:\n",
    "            if nota <= contagem:\n",
    "                contagem=contagem-nota #Entregar o menor número de notas\n",
    "                notas.append(nota)\n",
    "                break                \n",
    "    return notas\n",
    "\n",
    "saque(1590)\n"
   ]
  },
  {
   "cell_type": "markdown",
   "id": "distributed-content",
   "metadata": {},
   "source": [
    "## Solução mascada finita"
   ]
  },
  {
   "cell_type": "code",
   "execution_count": 821,
   "id": "executed-lotus",
   "metadata": {},
   "outputs": [
    {
     "data": {
      "text/plain": [
       "[100, 100, 100, 100, 50]"
      ]
     },
     "execution_count": 821,
     "metadata": {},
     "output_type": "execute_result"
    }
   ],
   "source": [
    "## Desenvolvido por Fabio Alberti\n",
    "\n",
    "NOTAS_MAQUINA=[100,50 ,20 ,10] #Notas disponíveis\n",
    "QUANT_MAQUINA=[10 ,10 ,10 ,10] #Quantidade disponíveis\n",
    "\n",
    "def estoque_nota(quant):\n",
    "    '''Calcula o estoque de notas'''\n",
    "    ret_total=True\n",
    "    for totais in quant:\n",
    "        if totais < 1:\n",
    "            ret_total=False\n",
    "            break\n",
    "    return ret_total\n",
    "\n",
    "def saque(contagem:int) -> list:\n",
    "    '''entrega de notas quando um cliente efetuar um saque em um caixa eletrônico'''\n",
    "    notas=[]\n",
    "    assert contagem%10 ==0,\"Não há valores para este valor.\"\n",
    "    while  contagem > 0:\n",
    "        for nota in NOTAS_MAQUINA:\n",
    "            QUANT_MAQUINA[NOTAS_MAQUINA.index(nota)]=QUANT_MAQUINA[NOTAS_MAQUINA.index(nota)]-1\n",
    "            if nota <= contagem:\n",
    "                contagem=contagem-nota\n",
    "                notas.append(nota)\n",
    "                break                \n",
    "    if estoque_nota(QUANT_MAQUINA) == False :\n",
    "        notas=[]\n",
    "        raise NameError('Não há notas disponíveis no estoque.')\n",
    "    return notas\n",
    "\n",
    "saque(450)"
   ]
  },
  {
   "cell_type": "code",
   "execution_count": 801,
   "id": "lucky-velvet",
   "metadata": {},
   "outputs": [],
   "source": [
    "caixa=saque\n",
    "def testa_funcao():\n",
    "    assert isinstance(caixa, types.FunctionType)\n",
    "\n",
    "def deve_retornar_erro_se_negativo():\n",
    "    assert caixa(-10) == 'Informe um valor positivo'\n",
    "\n",
    "def deve_retornar_erro_se_valor_menor_que_10():\n",
    "    assert caixa(9) == 'Saque um valor acima de 10 reais'\n",
    "\n",
    "def deve_retornar_erro_se_valor_nao_for_divisivel_por_10():\n",
    "    assert (caixa(11)) == 'Informe um valor válido para o saque'\n",
    "\n",
    "def deve_retornar_lista_com_um_item():\n",
    "    assert len(caixa(10)) == 1\n",
    "\n",
    "def deve_retornar_uma_nota_de_dez():\n",
    "    cash = caixa(10)\n",
    "    assert len(cash) == 1 and cash.count(10) == 1\n",
    "\n",
    "def deve_retornar_nota_de_20():\n",
    "    assert caixa(20) == [20]\n",
    "\n",
    "def deve_retornar_nota_de_20_e_nota_de_10():\n",
    "    assert caixa(30) == [20, 10]\n",
    "\n",
    "def deve_retornar_nota_de_50_e_nota_de_10():\n",
    "    assert caixa(60) == [50, 10]\n",
    "\n",
    "def deve_retornar_nota_de_50_de_20_e_de_10():\n",
    "    assert caixa(80) == [50, 20, 10]\n",
    "\n",
    "def deve_retornar_nota_de_100_e_de_20():\n",
    "    assert caixa(120) == [100, 20]\n",
    "\n",
    "def deve_retornar_3_notas():\n",
    "    assert caixa(170) == [100, 50, 20]\n",
    "\n",
    "def deve_retornar_2_notas_de_100():\n",
    "    assert caixa(200) == [100, 100]\n",
    "\n",
    "def deve_retornar_10_notas_de_1000():\n",
    "    cash = caixa(1000)\n",
    "    assert len(cash) == 10 and cash.count(100) == 10\n",
    "\n",
    "def deve_retornar_18_notas():\n",
    "    cash = caixa(1590)\n",
    "    assert len(cash) == 18 and cash.count(100) == 15 and cash.count(50) == 1 and cash.count(20) == 2\n",
    "    \n",
    "\n",
    "\n"
   ]
  }
 ],
 "metadata": {
  "kernelspec": {
   "display_name": "Python 3",
   "language": "python",
   "name": "python3"
  },
  "language_info": {
   "codemirror_mode": {
    "name": "ipython",
    "version": 3
   },
   "file_extension": ".py",
   "mimetype": "text/x-python",
   "name": "python",
   "nbconvert_exporter": "python",
   "pygments_lexer": "ipython3",
   "version": "3.9.5"
  }
 },
 "nbformat": 4,
 "nbformat_minor": 5
}
