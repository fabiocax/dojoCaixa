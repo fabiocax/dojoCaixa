{
 "cells": [
  {
   "cell_type": "markdown",
   "id": "personalized-rainbow",
   "metadata": {},
   "source": [
    "## Solução mascada infinita"
   ]
  },
  {
   "cell_type": "code",
   "execution_count": 747,
   "id": "alpine-prize",
   "metadata": {},
   "outputs": [
    {
     "data": {
      "text/plain": [
       "[100, 100, 50, 20, 10]"
      ]
     },
     "execution_count": 747,
     "metadata": {},
     "output_type": "execute_result"
    }
   ],
   "source": [
    "## Desenvolvido por Fabio Alberti\n",
    "\n",
    "NOTAS_MAQUINA=[100, 50 ,20 ,10] #Notas disponíveis\n",
    "\n",
    "def saque(valor) -> list:\n",
    "    '''entrega de notas quando um cliente efetuar um saque em um caixa eletrônico'''\n",
    "    notas=[]\n",
    "    contagem=int(valor)\n",
    "    assert valor%10 ==0,\"Não há notas disponíveis para esse valor\"\n",
    "    while contagem!=0:\n",
    "        for nota in NOTAS_MAQUINA:\n",
    "            if nota <= contagem:\n",
    "                contagem=contagem-nota #Entregar o menor número de notas\n",
    "                notas.append(nota)\n",
    "                break                \n",
    "    return notas\n",
    "\n",
    "\n",
    "saque(280)"
   ]
  },
  {
   "cell_type": "markdown",
   "id": "potential-maple",
   "metadata": {},
   "source": [
    "## Solução mascada finita"
   ]
  },
  {
   "cell_type": "code",
   "execution_count": 745,
   "id": "enormous-factory",
   "metadata": {},
   "outputs": [
    {
     "data": {
      "text/plain": [
       "[100, 100, 100, 100, 50]"
      ]
     },
     "execution_count": 745,
     "metadata": {},
     "output_type": "execute_result"
    }
   ],
   "source": [
    "## Desenvolvido por Fabio Alberti\n",
    "\n",
    "NOTAS_MAQUINA=[100,50 ,20 ,10] #Notas disponíveis\n",
    "QUANT_MAQUINA=[10 ,10 ,10 ,10] #Quantidade disponíveis\n",
    "\n",
    "def estoque_nota(quant):\n",
    "    '''Calcula o estoque de notas'''\n",
    "    ret_total=True\n",
    "    for totais in quant:\n",
    "        if totais < 1:\n",
    "            ret_total=False\n",
    "            break\n",
    "    return ret_total\n",
    "\n",
    "def saque(valor) -> list:\n",
    "    '''entrega de notas quando um cliente efetuar um saque em um caixa eletrônico'''\n",
    "    notas=[]\n",
    "    contagem=int(valor)\n",
    "    assert valor%10 ==0,\"Não há valores para este valor.\"\n",
    "    while contagem!=0:\n",
    "        for nota in NOTAS_MAQUINA:\n",
    "            QUANT_MAQUINA[NOTAS_MAQUINA.index(nota)]=QUANT_MAQUINA[NOTAS_MAQUINA.index(nota)]-1\n",
    "            if nota <= contagem:\n",
    "                contagem=contagem-nota\n",
    "                notas.append(nota)\n",
    "                break                \n",
    "\n",
    "    if estoque_nota(QUANT_MAQUINA) == False :\n",
    "        notas=[]\n",
    "        raise NameError('Não há notas disponíveis no estoque.')\n",
    "    return notas\n",
    "\n",
    "saque(450)"
   ]
  }
 ],
 "metadata": {
  "kernelspec": {
   "display_name": "Python 3",
   "language": "python",
   "name": "python3"
  },
  "language_info": {
   "codemirror_mode": {
    "name": "ipython",
    "version": 3
   },
   "file_extension": ".py",
   "mimetype": "text/x-python",
   "name": "python",
   "nbconvert_exporter": "python",
   "pygments_lexer": "ipython3",
   "version": "3.9.5"
  }
 },
 "nbformat": 4,
 "nbformat_minor": 5
}
